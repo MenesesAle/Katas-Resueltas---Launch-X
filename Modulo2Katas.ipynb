{
 "cells": [
  {
   "cell_type": "markdown",
   "metadata": {},
   "source": [
    "# Kata 2\n",
    "Creamos entorno virtual\n",
    "\n",
    "![](../images/env.PNG)\n",
    "\n",
    "Activamos entorno virtual\n",
    "\n",
    "![](../images/activate.PNG)\n",
    "\n",
    "Instalación en entorno virtual\n",
    "\n",
    "![](../images/instalacion.PNG)\n",
    "\n",
    "Desactivamos entorno virtual\n",
    "\n",
    "![](../images/deactivate.png)\n"
   ]
  }
 ],
 "metadata": {
  "interpreter": {
   "hash": "6a89a67737fa9ca43ac04fdbb411dce11dbea46ca14ec32a10728d3fed1627ea"
  },
  "kernelspec": {
   "display_name": "Python 3.10.2 64-bit",
   "language": "python",
   "name": "python3"
  },
  "language_info": {
   "name": "python",
   "version": "3.10.2"
  },
  "orig_nbformat": 4
 },
 "nbformat": 4,
 "nbformat_minor": 2
}
